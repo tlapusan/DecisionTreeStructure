{
 "cells": [
  {
   "cell_type": "markdown",
   "metadata": {},
   "source": [
    "# Imports"
   ]
  },
  {
   "cell_type": "code",
   "execution_count": 1,
   "metadata": {
    "ExecuteTime": {
     "end_time": "2019-07-16T07:58:33.525692Z",
     "start_time": "2019-07-16T07:58:33.064957Z"
    }
   },
   "outputs": [],
   "source": [
    "%load_ext autoreload\n",
    "%autoreload 2\n",
    "\n",
    "%matplotlib inline"
   ]
  },
  {
   "cell_type": "code",
   "execution_count": 15,
   "metadata": {
    "ExecuteTime": {
     "end_time": "2019-07-16T07:58:33.547980Z",
     "start_time": "2019-07-16T07:58:33.527910Z"
    }
   },
   "outputs": [],
   "source": [
    "import sys\n",
    "import os\n",
    "# add woodpecker library to PYTHONPATH\n",
    "sys.path.append(f\"{os.getcwd()}/..\")"
   ]
  },
  {
   "cell_type": "code",
   "execution_count": 16,
   "metadata": {
    "ExecuteTime": {
     "end_time": "2019-07-16T08:52:14.437844Z",
     "start_time": "2019-07-16T08:52:14.395028Z"
    }
   },
   "outputs": [],
   "source": [
    "import numpy as np\n",
    "from random import randint\n",
    "import sklearn\n",
    "from sklearn.model_selection import train_test_split\n",
    "from sklearn.metrics import mean_absolute_error\n",
    "import pandas as pd\n",
    "import graphviz\n",
    "from graphviz import Source\n",
    "\n",
    "from matplotlib import pyplot as plt\n",
    "\n",
    "from sklearn import tree\n",
    "from sklearn.tree import DecisionTreeRegressor\n",
    "\n",
    "from woodpecker.sklearn.decisiontree.decision_tree_structure_regressor import DecisionTreeStructureRegressor\n"
   ]
  },
  {
   "cell_type": "markdown",
   "metadata": {},
   "source": [
    "# Load dataset"
   ]
  },
  {
   "cell_type": "code",
   "execution_count": 17,
   "metadata": {
    "ExecuteTime": {
     "end_time": "2019-07-16T07:58:34.922227Z",
     "start_time": "2019-07-16T07:58:34.870153Z"
    }
   },
   "outputs": [],
   "source": [
    "dataset = pd.read_csv(\"../resources/dataset/train_titanic.csv\")"
   ]
  },
  {
   "cell_type": "markdown",
   "metadata": {},
   "source": [
    "# Feature enginner"
   ]
  },
  {
   "cell_type": "code",
   "execution_count": 18,
   "metadata": {
    "ExecuteTime": {
     "end_time": "2019-07-16T07:58:34.978771Z",
     "start_time": "2019-07-16T07:58:34.924104Z"
    }
   },
   "outputs": [],
   "source": [
    "# Age\n",
    "dataset[\"Age_na\"] = dataset[\"Age\"].isna().astype(int)\n",
    "dataset.fillna({\"Age\":dataset.median()[\"Age\"]}, inplace=True)\n",
    "\n",
    "#Sex\n",
    "dataset[\"Sex_label\"] = dataset[\"Sex\"].astype(\"category\").cat.codes\n",
    "\n",
    "#Cabin\n",
    "dataset[\"Cabin_label\"] = dataset[\"Cabin\"].astype(\"category\").cat.codes\n",
    "\n",
    "# Embarked\n",
    "dataset[\"Embarked_label\"] = dataset[\"Embarked\"].astype(\"category\").cat.codes"
   ]
  },
  {
   "cell_type": "markdown",
   "metadata": {},
   "source": [
    "# Select features and target variables"
   ]
  },
  {
   "cell_type": "code",
   "execution_count": 19,
   "metadata": {
    "ExecuteTime": {
     "end_time": "2019-07-16T07:58:35.015576Z",
     "start_time": "2019-07-16T07:58:34.981619Z"
    }
   },
   "outputs": [],
   "source": [
    "features = [\"Pclass\", \"Fare\", \"Sex_label\", \"Cabin_label\", \"Embarked_label\", \"Survived\"]\n",
    "target = \"Age\""
   ]
  },
  {
   "cell_type": "markdown",
   "metadata": {},
   "source": [
    "# Train/validation split"
   ]
  },
  {
   "cell_type": "code",
   "execution_count": 20,
   "metadata": {
    "ExecuteTime": {
     "end_time": "2019-07-16T07:58:35.335873Z",
     "start_time": "2019-07-16T07:58:35.291923Z"
    }
   },
   "outputs": [],
   "source": [
    "random_state = 1987\n",
    "train, valid = train_test_split(dataset, test_size = 0.2, stratify = dataset.Survived, random_state=random_state)"
   ]
  },
  {
   "cell_type": "markdown",
   "metadata": {},
   "source": [
    "# Train model"
   ]
  },
  {
   "cell_type": "code",
   "execution_count": 9,
   "metadata": {
    "ExecuteTime": {
     "end_time": "2019-07-16T07:58:35.688988Z",
     "start_time": "2019-07-16T07:58:35.652543Z"
    }
   },
   "outputs": [],
   "source": []
  },
  {
   "cell_type": "code",
   "execution_count": 30,
   "metadata": {
    "ExecuteTime": {
     "end_time": "2019-07-16T11:05:35.222087Z",
     "start_time": "2019-07-16T11:05:35.179438Z"
    }
   },
   "outputs": [],
   "source": [
    "max_depth = 3\n",
    "model = DecisionTreeRegressor(criterion=\"mae\", max_depth=max_depth)\n",
    "_ = model.fit(train[features], train[target])"
   ]
  },
  {
   "cell_type": "markdown",
   "metadata": {},
   "source": [
    "# Validation"
   ]
  },
  {
   "cell_type": "code",
   "execution_count": 31,
   "metadata": {
    "ExecuteTime": {
     "end_time": "2019-07-16T11:05:36.011483Z",
     "start_time": "2019-07-16T11:05:35.970428Z"
    }
   },
   "outputs": [
    {
     "data": {
      "text/plain": [
       "9.506983240223464"
      ]
     },
     "execution_count": 31,
     "metadata": {},
     "output_type": "execute_result"
    }
   ],
   "source": [
    "mean_absolute_error(valid[target], model.predict(valid[features]))"
   ]
  },
  {
   "cell_type": "markdown",
   "metadata": {},
   "source": [
    "# Model interpretation"
   ]
  },
  {
   "cell_type": "code",
   "execution_count": 32,
   "metadata": {
    "ExecuteTime": {
     "end_time": "2019-07-16T11:05:36.979590Z",
     "start_time": "2019-07-16T11:05:36.934182Z"
    }
   },
   "outputs": [],
   "source": [
    "dts = DecisionTreeStructureRegressor(model, train, features, target)"
   ]
  },
  {
   "cell_type": "code",
   "execution_count": 33,
   "metadata": {
    "ExecuteTime": {
     "end_time": "2019-07-16T11:05:37.852983Z",
     "start_time": "2019-07-16T11:05:37.398115Z"
    },
    "scrolled": false
   },
   "outputs": [
    {
     "data": {
      "image/png": "[encoded data removed]",
      "text/plain": [
       "<Figure size 1440x720 with 1 Axes>"
      ]
     },
     "metadata": {
      "needs_background": "light"
     },
     "output_type": "display_data"
    }
   ],
   "source": [
    "dts.show_features_importance()"
   ]
  },
  {
   "cell_type": "code",
   "execution_count": 34,
   "metadata": {
    "ExecuteTime": {
     "end_time": "2019-07-16T11:05:38.980210Z",
     "start_time": "2019-07-16T11:05:38.257499Z"
    },
    "scrolled": true
   },
   "outputs": [
    {
     "data": {
      "image/svg+xml": [
       "<?xml version=\"1.0\" encoding=\"UTF-8\" standalone=\"no\"?>\n",
       "<!DOCTYPE svg PUBLIC \"-//W3C//DTD SVG 1.1//EN\"\n",
       " \"http://www.w3.org/Graphics/SVG/1.1/DTD/svg11.dtd\">\n",
       "<!-- Generated by graphviz version 2.40.1 (20161225.0304)\n",
       " -->\n",
       "<!-- Title: Tree Pages: 1 -->\n",
       "<svg width=\"859pt\" height=\"414pt\"\n",
       " viewBox=\"0.00 0.00 859.00 414.00\" xmlns=\"http://www.w3.org/2000/svg\" xmlns:xlink=\"http://www.w3.org/1999/xlink\">\n",
       "<g id=\"graph0\" class=\"graph\" transform=\"scale(1 1) rotate(0) translate(4 410)\">\n",
       "<title>Tree</title>\n",
       "<polygon fill=\"#ffffff\" stroke=\"transparent\" points=\"-4,4 -4,-410 854.999,-410 854.999,4 -4,4\"/>\n",
       "<!-- 0 -->\n",
       "<g id=\"node1\" class=\"node\">\n",
       "<title>0</title>\n",
       "<polygon fill=\"#f6d2b8\" stroke=\"#000000\" points=\"460.4985,-406 363.5005,-406 363.5005,-328 460.4985,-328 460.4985,-406\"/>\n",
       "<text text-anchor=\"middle\" x=\"411.9995\" y=\"-390.8\" font-family=\"Times,serif\" font-size=\"14.00\" fill=\"#000000\">node #0</text>\n",
       "<text text-anchor=\"middle\" x=\"411.9995\" y=\"-376.8\" font-family=\"Times,serif\" font-size=\"14.00\" fill=\"#000000\">Pclass &lt;= 1.5</text>\n",
       "<text text-anchor=\"middle\" x=\"411.9995\" y=\"-362.8\" font-family=\"Times,serif\" font-size=\"14.00\" fill=\"#000000\">mae = 8.959</text>\n",
       "<text text-anchor=\"middle\" x=\"411.9995\" y=\"-348.8\" font-family=\"Times,serif\" font-size=\"14.00\" fill=\"#000000\">samples = 712</text>\n",
       "<text text-anchor=\"middle\" x=\"411.9995\" y=\"-334.8\" font-family=\"Times,serif\" font-size=\"14.00\" fill=\"#000000\">value = 28.0</text>\n",
       "</g>\n",
       "<!-- 1 -->\n",
       "<g id=\"node2\" class=\"node\">\n",
       "<title>1</title>\n",
       "<polygon fill=\"#f2c19e\" stroke=\"#000000\" points=\"393.3424,-292 286.6566,-292 286.6566,-214 393.3424,-214 393.3424,-292\"/>\n",
       "<text text-anchor=\"middle\" x=\"339.9995\" y=\"-276.8\" font-family=\"Times,serif\" font-size=\"14.00\" fill=\"#000000\">node #1</text>\n",
       "<text text-anchor=\"middle\" x=\"339.9995\" y=\"-262.8\" font-family=\"Times,serif\" font-size=\"14.00\" fill=\"#000000\">Survived &lt;= 0.5</text>\n",
       "<text text-anchor=\"middle\" x=\"339.9995\" y=\"-248.8\" font-family=\"Times,serif\" font-size=\"14.00\" fill=\"#000000\">mae = 11.558</text>\n",
       "<text text-anchor=\"middle\" x=\"339.9995\" y=\"-234.8\" font-family=\"Times,serif\" font-size=\"14.00\" fill=\"#000000\">samples = 165</text>\n",
       "<text text-anchor=\"middle\" x=\"339.9995\" y=\"-220.8\" font-family=\"Times,serif\" font-size=\"14.00\" fill=\"#000000\">value = 35.0</text>\n",
       "</g>\n",
       "<!-- 0&#45;&gt;1 -->\n",
       "<g id=\"edge1\" class=\"edge\">\n",
       "<title>0&#45;&gt;1</title>\n",
       "<path fill=\"none\" stroke=\"#000000\" d=\"M387.2212,-327.7677C381.7341,-319.0798 375.8606,-309.7801 370.1852,-300.794\"/>\n",
       "<polygon fill=\"#000000\" stroke=\"#000000\" points=\"373.1227,-298.8906 364.8235,-292.3046 367.2043,-302.6285 373.1227,-298.8906\"/>\n",
       "<text text-anchor=\"middle\" x=\"359.317\" y=\"-312.4907\" font-family=\"Times,serif\" font-size=\"14.00\" fill=\"#000000\">True</text>\n",
       "</g>\n",
       "<!-- 8 -->\n",
       "<g id=\"node9\" class=\"node\">\n",
       "<title>8</title>\n",
       "<polygon fill=\"#f6d2b8\" stroke=\"#000000\" points=\"553.1666,-292 450.8324,-292 450.8324,-214 553.1666,-214 553.1666,-292\"/>\n",
       "<text text-anchor=\"middle\" x=\"501.9995\" y=\"-276.8\" font-family=\"Times,serif\" font-size=\"14.00\" fill=\"#000000\">node #8</text>\n",
       "<text text-anchor=\"middle\" x=\"501.9995\" y=\"-262.8\" font-family=\"Times,serif\" font-size=\"14.00\" fill=\"#000000\">Fare &lt;= 27.825</text>\n",
       "<text text-anchor=\"middle\" x=\"501.9995\" y=\"-248.8\" font-family=\"Times,serif\" font-size=\"14.00\" fill=\"#000000\">mae = 7.958</text>\n",
       "<text text-anchor=\"middle\" x=\"501.9995\" y=\"-234.8\" font-family=\"Times,serif\" font-size=\"14.00\" fill=\"#000000\">samples = 547</text>\n",
       "<text text-anchor=\"middle\" x=\"501.9995\" y=\"-220.8\" font-family=\"Times,serif\" font-size=\"14.00\" fill=\"#000000\">value = 28.0</text>\n",
       "</g>\n",
       "<!-- 0&#45;&gt;8 -->\n",
       "<g id=\"edge8\" class=\"edge\">\n",
       "<title>0&#45;&gt;8</title>\n",
       "<path fill=\"none\" stroke=\"#000000\" d=\"M442.9724,-327.7677C449.9726,-318.9007 457.4761,-309.3964 464.7059,-300.2385\"/>\n",
       "<polygon fill=\"#000000\" stroke=\"#000000\" points=\"467.5201,-302.3223 470.9695,-292.3046 462.0259,-297.9847 467.5201,-302.3223\"/>\n",
       "<text text-anchor=\"middle\" x=\"473.8906\" y=\"-312.9334\" font-family=\"Times,serif\" font-size=\"14.00\" fill=\"#000000\">False</text>\n",
       "</g>\n",
       "<!-- 2 -->\n",
       "<g id=\"node3\" class=\"node\">\n",
       "<title>2</title>\n",
       "<polygon fill=\"#f0b58b\" stroke=\"#000000\" points=\"205.6666,-178 96.3324,-178 96.3324,-100 205.6666,-100 205.6666,-178\"/>\n",
       "<text text-anchor=\"middle\" x=\"150.9995\" y=\"-162.8\" font-family=\"Times,serif\" font-size=\"14.00\" fill=\"#000000\">node #2</text>\n",
       "<text text-anchor=\"middle\" x=\"150.9995\" y=\"-148.8\" font-family=\"Times,serif\" font-size=\"14.00\" fill=\"#000000\">Fare &lt;= 124.454</text>\n",
       "<text text-anchor=\"middle\" x=\"150.9995\" y=\"-134.8\" font-family=\"Times,serif\" font-size=\"14.00\" fill=\"#000000\">mae = 12.636</text>\n",
       "<text text-anchor=\"middle\" x=\"150.9995\" y=\"-120.8\" font-family=\"Times,serif\" font-size=\"14.00\" fill=\"#000000\">samples = 55</text>\n",
       "<text text-anchor=\"middle\" x=\"150.9995\" y=\"-106.8\" font-family=\"Times,serif\" font-size=\"14.00\" fill=\"#000000\">value = 40.0</text>\n",
       "</g>\n",
       "<!-- 1&#45;&gt;2 -->\n",
       "<g id=\"edge2\" class=\"edge\">\n",
       "<title>1&#45;&gt;2</title>\n",
       "<path fill=\"none\" stroke=\"#000000\" d=\"M286.5975,-220.7893C264.2383,-207.3027 238.0667,-191.5167 214.7118,-177.4297\"/>\n",
       "<polygon fill=\"#000000\" stroke=\"#000000\" points=\"216.2832,-174.2901 205.9126,-172.1222 212.6678,-180.2842 216.2832,-174.2901\"/>\n",
       "</g>\n",
       "<!-- 5 -->\n",
       "<g id=\"node6\" class=\"node\">\n",
       "<title>5</title>\n",
       "<polygon fill=\"#f4caab\" stroke=\"#000000\" points=\"416.1912,-178 263.8078,-178 263.8078,-100 416.1912,-100 416.1912,-178\"/>\n",
       "<text text-anchor=\"middle\" x=\"339.9995\" y=\"-162.8\" font-family=\"Times,serif\" font-size=\"14.00\" fill=\"#000000\">node #5</text>\n",
       "<text text-anchor=\"middle\" x=\"339.9995\" y=\"-148.8\" font-family=\"Times,serif\" font-size=\"14.00\" fill=\"#000000\">Embarked_label &lt;= &#45;0.5</text>\n",
       "<text text-anchor=\"middle\" x=\"339.9995\" y=\"-134.8\" font-family=\"Times,serif\" font-size=\"14.00\" fill=\"#000000\">mae = 10.501</text>\n",
       "<text text-anchor=\"middle\" x=\"339.9995\" y=\"-120.8\" font-family=\"Times,serif\" font-size=\"14.00\" fill=\"#000000\">samples = 110</text>\n",
       "<text text-anchor=\"middle\" x=\"339.9995\" y=\"-106.8\" font-family=\"Times,serif\" font-size=\"14.00\" fill=\"#000000\">value = 31.5</text>\n",
       "</g>\n",
       "<!-- 1&#45;&gt;5 -->\n",
       "<g id=\"edge5\" class=\"edge\">\n",
       "<title>1&#45;&gt;5</title>\n",
       "<path fill=\"none\" stroke=\"#000000\" d=\"M339.9995,-213.7677C339.9995,-205.6172 339.9995,-196.9283 339.9995,-188.4649\"/>\n",
       "<polygon fill=\"#000000\" stroke=\"#000000\" points=\"343.4996,-188.3046 339.9995,-178.3046 336.4996,-188.3047 343.4996,-188.3046\"/>\n",
       "</g>\n",
       "<!-- 3 -->\n",
       "<g id=\"node4\" class=\"node\">\n",
       "<title>3</title>\n",
       "<polygon fill=\"#eda979\" stroke=\"#000000\" points=\"89.9985,-64 .0005,-64 .0005,0 89.9985,0 89.9985,-64\"/>\n",
       "<text text-anchor=\"middle\" x=\"44.9995\" y=\"-48.8\" font-family=\"Times,serif\" font-size=\"14.00\" fill=\"#000000\">node #3</text>\n",
       "<text text-anchor=\"middle\" x=\"44.9995\" y=\"-34.8\" font-family=\"Times,serif\" font-size=\"14.00\" fill=\"#000000\">mae = 11.13</text>\n",
       "<text text-anchor=\"middle\" x=\"44.9995\" y=\"-20.8\" font-family=\"Times,serif\" font-size=\"14.00\" fill=\"#000000\">samples = 46</text>\n",
       "<text text-anchor=\"middle\" x=\"44.9995\" y=\"-6.8\" font-family=\"Times,serif\" font-size=\"14.00\" fill=\"#000000\">value = 45.0</text>\n",
       "</g>\n",
       "<!-- 2&#45;&gt;3 -->\n",
       "<g id=\"edge3\" class=\"edge\">\n",
       "<title>2&#45;&gt;3</title>\n",
       "<path fill=\"none\" stroke=\"#000000\" d=\"M112.1309,-99.7647C102.9928,-90.5404 93.2501,-80.7057 84.1017,-71.4711\"/>\n",
       "<polygon fill=\"#000000\" stroke=\"#000000\" points=\"86.4396,-68.8579 76.9153,-64.2169 81.4666,-73.7843 86.4396,-68.8579\"/>\n",
       "</g>\n",
       "<!-- 4 -->\n",
       "<g id=\"node5\" class=\"node\">\n",
       "<title>4</title>\n",
       "<polygon fill=\"#f7d9c3\" stroke=\"#000000\" points=\"193.7129,-64 108.2861,-64 108.2861,0 193.7129,0 193.7129,-64\"/>\n",
       "<text text-anchor=\"middle\" x=\"150.9995\" y=\"-48.8\" font-family=\"Times,serif\" font-size=\"14.00\" fill=\"#000000\">node #4</text>\n",
       "<text text-anchor=\"middle\" x=\"150.9995\" y=\"-34.8\" font-family=\"Times,serif\" font-size=\"14.00\" fill=\"#000000\">mae = 10.0</text>\n",
       "<text text-anchor=\"middle\" x=\"150.9995\" y=\"-20.8\" font-family=\"Times,serif\" font-size=\"14.00\" fill=\"#000000\">samples = 9</text>\n",
       "<text text-anchor=\"middle\" x=\"150.9995\" y=\"-6.8\" font-family=\"Times,serif\" font-size=\"14.00\" fill=\"#000000\">value = 25.0</text>\n",
       "</g>\n",
       "<!-- 2&#45;&gt;4 -->\n",
       "<g id=\"edge4\" class=\"edge\">\n",
       "<title>2&#45;&gt;4</title>\n",
       "<path fill=\"none\" stroke=\"#000000\" d=\"M150.9995,-99.7647C150.9995,-91.4537 150.9995,-82.6472 150.9995,-74.2305\"/>\n",
       "<polygon fill=\"#000000\" stroke=\"#000000\" points=\"154.4996,-74.2168 150.9995,-64.2169 147.4996,-74.2169 154.4996,-74.2168\"/>\n",
       "</g>\n",
       "<!-- 6 -->\n",
       "<g id=\"node7\" class=\"node\">\n",
       "<title>6</title>\n",
       "<polygon fill=\"#e58139\" stroke=\"#000000\" points=\"297.7129,-64 212.2861,-64 212.2861,0 297.7129,0 297.7129,-64\"/>\n",
       "<text text-anchor=\"middle\" x=\"254.9995\" y=\"-48.8\" font-family=\"Times,serif\" font-size=\"14.00\" fill=\"#000000\">node #6</text>\n",
       "<text text-anchor=\"middle\" x=\"254.9995\" y=\"-34.8\" font-family=\"Times,serif\" font-size=\"14.00\" fill=\"#000000\">mae = 0.0</text>\n",
       "<text text-anchor=\"middle\" x=\"254.9995\" y=\"-20.8\" font-family=\"Times,serif\" font-size=\"14.00\" fill=\"#000000\">samples = 1</text>\n",
       "<text text-anchor=\"middle\" x=\"254.9995\" y=\"-6.8\" font-family=\"Times,serif\" font-size=\"14.00\" fill=\"#000000\">value = 62.0</text>\n",
       "</g>\n",
       "<!-- 5&#45;&gt;6 -->\n",
       "<g id=\"edge6\" class=\"edge\">\n",
       "<title>5&#45;&gt;6</title>\n",
       "<path fill=\"none\" stroke=\"#000000\" d=\"M308.8313,-99.7647C301.7212,-90.8144 294.1547,-81.2894 287.01,-72.2955\"/>\n",
       "<polygon fill=\"#000000\" stroke=\"#000000\" points=\"289.5531,-69.8699 280.5924,-64.2169 284.072,-74.224 289.5531,-69.8699\"/>\n",
       "</g>\n",
       "<!-- 7 -->\n",
       "<g id=\"node8\" class=\"node\">\n",
       "<title>7</title>\n",
       "<polygon fill=\"#f4cbad\" stroke=\"#000000\" points=\"412.4985,-64 315.5005,-64 315.5005,0 412.4985,0 412.4985,-64\"/>\n",
       "<text text-anchor=\"middle\" x=\"363.9995\" y=\"-48.8\" font-family=\"Times,serif\" font-size=\"14.00\" fill=\"#000000\">node #7</text>\n",
       "<text text-anchor=\"middle\" x=\"363.9995\" y=\"-34.8\" font-family=\"Times,serif\" font-size=\"14.00\" fill=\"#000000\">mae = 10.313</text>\n",
       "<text text-anchor=\"middle\" x=\"363.9995\" y=\"-20.8\" font-family=\"Times,serif\" font-size=\"14.00\" fill=\"#000000\">samples = 109</text>\n",
       "<text text-anchor=\"middle\" x=\"363.9995\" y=\"-6.8\" font-family=\"Times,serif\" font-size=\"14.00\" fill=\"#000000\">value = 31.0</text>\n",
       "</g>\n",
       "<!-- 5&#45;&gt;7 -->\n",
       "<g id=\"edge7\" class=\"edge\">\n",
       "<title>5&#45;&gt;7</title>\n",
       "<path fill=\"none\" stroke=\"#000000\" d=\"M348.7999,-99.7647C350.6641,-91.4537 352.6394,-82.6472 354.5272,-74.2305\"/>\n",
       "<polygon fill=\"#000000\" stroke=\"#000000\" points=\"357.9998,-74.7405 356.7733,-64.2169 351.1695,-73.2084 357.9998,-74.7405\"/>\n",
       "</g>\n",
       "<!-- 9 -->\n",
       "<g id=\"node10\" class=\"node\">\n",
       "<title>9</title>\n",
       "<polygon fill=\"#f6d2b8\" stroke=\"#000000\" points=\"553.1666,-178 450.8324,-178 450.8324,-100 553.1666,-100 553.1666,-178\"/>\n",
       "<text text-anchor=\"middle\" x=\"501.9995\" y=\"-162.8\" font-family=\"Times,serif\" font-size=\"14.00\" fill=\"#000000\">node #9</text>\n",
       "<text text-anchor=\"middle\" x=\"501.9995\" y=\"-148.8\" font-family=\"Times,serif\" font-size=\"14.00\" fill=\"#000000\">Fare &lt;= 25.733</text>\n",
       "<text text-anchor=\"middle\" x=\"501.9995\" y=\"-134.8\" font-family=\"Times,serif\" font-size=\"14.00\" fill=\"#000000\">mae = 7.301</text>\n",
       "<text text-anchor=\"middle\" x=\"501.9995\" y=\"-120.8\" font-family=\"Times,serif\" font-size=\"14.00\" fill=\"#000000\">samples = 488</text>\n",
       "<text text-anchor=\"middle\" x=\"501.9995\" y=\"-106.8\" font-family=\"Times,serif\" font-size=\"14.00\" fill=\"#000000\">value = 28.0</text>\n",
       "</g>\n",
       "<!-- 8&#45;&gt;9 -->\n",
       "<g id=\"edge9\" class=\"edge\">\n",
       "<title>8&#45;&gt;9</title>\n",
       "<path fill=\"none\" stroke=\"#000000\" d=\"M501.9995,-213.7677C501.9995,-205.6172 501.9995,-196.9283 501.9995,-188.4649\"/>\n",
       "<polygon fill=\"#000000\" stroke=\"#000000\" points=\"505.4996,-188.3046 501.9995,-178.3046 498.4996,-188.3047 505.4996,-188.3046\"/>\n",
       "</g>\n",
       "<!-- 12 -->\n",
       "<g id=\"node13\" class=\"node\">\n",
       "<title>12</title>\n",
       "<polygon fill=\"#fae7da\" stroke=\"#000000\" points=\"749.1666,-178 646.8324,-178 646.8324,-100 749.1666,-100 749.1666,-178\"/>\n",
       "<text text-anchor=\"middle\" x=\"697.9995\" y=\"-162.8\" font-family=\"Times,serif\" font-size=\"14.00\" fill=\"#000000\">node #12</text>\n",
       "<text text-anchor=\"middle\" x=\"697.9995\" y=\"-148.8\" font-family=\"Times,serif\" font-size=\"14.00\" fill=\"#000000\">Fare &lt;= 51.698</text>\n",
       "<text text-anchor=\"middle\" x=\"697.9995\" y=\"-134.8\" font-family=\"Times,serif\" font-size=\"14.00\" fill=\"#000000\">mae = 11.884</text>\n",
       "<text text-anchor=\"middle\" x=\"697.9995\" y=\"-120.8\" font-family=\"Times,serif\" font-size=\"14.00\" fill=\"#000000\">samples = 59</text>\n",
       "<text text-anchor=\"middle\" x=\"697.9995\" y=\"-106.8\" font-family=\"Times,serif\" font-size=\"14.00\" fill=\"#000000\">value = 19.0</text>\n",
       "</g>\n",
       "<!-- 8&#45;&gt;12 -->\n",
       "<g id=\"edge12\" class=\"edge\">\n",
       "<title>8&#45;&gt;12</title>\n",
       "<path fill=\"none\" stroke=\"#000000\" d=\"M553.2402,-223.1967C579.1239,-208.1419 610.6918,-189.781 637.7349,-174.0519\"/>\n",
       "<polygon fill=\"#000000\" stroke=\"#000000\" points=\"639.8334,-176.8803 646.7179,-168.8271 636.3139,-170.8294 639.8334,-176.8803\"/>\n",
       "</g>\n",
       "<!-- 10 -->\n",
       "<g id=\"node11\" class=\"node\">\n",
       "<title>10</title>\n",
       "<polygon fill=\"#f6d2b8\" stroke=\"#000000\" points=\"527.4985,-64 430.5005,-64 430.5005,0 527.4985,0 527.4985,-64\"/>\n",
       "<text text-anchor=\"middle\" x=\"478.9995\" y=\"-48.8\" font-family=\"Times,serif\" font-size=\"14.00\" fill=\"#000000\">node #10</text>\n",
       "<text text-anchor=\"middle\" x=\"478.9995\" y=\"-34.8\" font-family=\"Times,serif\" font-size=\"14.00\" fill=\"#000000\">mae = 7.05</text>\n",
       "<text text-anchor=\"middle\" x=\"478.9995\" y=\"-20.8\" font-family=\"Times,serif\" font-size=\"14.00\" fill=\"#000000\">samples = 454</text>\n",
       "<text text-anchor=\"middle\" x=\"478.9995\" y=\"-6.8\" font-family=\"Times,serif\" font-size=\"14.00\" fill=\"#000000\">value = 28.0</text>\n",
       "</g>\n",
       "<!-- 9&#45;&gt;10 -->\n",
       "<g id=\"edge10\" class=\"edge\">\n",
       "<title>9&#45;&gt;10</title>\n",
       "<path fill=\"none\" stroke=\"#000000\" d=\"M493.5658,-99.7647C491.7793,-91.4537 489.8863,-82.6472 488.0771,-74.2305\"/>\n",
       "<polygon fill=\"#000000\" stroke=\"#000000\" points=\"491.4481,-73.258 485.9246,-64.2169 484.6044,-74.7291 491.4481,-73.258\"/>\n",
       "</g>\n",
       "<!-- 11 -->\n",
       "<g id=\"node12\" class=\"node\">\n",
       "<title>11</title>\n",
       "<polygon fill=\"#f3c6a5\" stroke=\"#000000\" points=\"634.9985,-64 545.0005,-64 545.0005,0 634.9985,0 634.9985,-64\"/>\n",
       "<text text-anchor=\"middle\" x=\"589.9995\" y=\"-48.8\" font-family=\"Times,serif\" font-size=\"14.00\" fill=\"#000000\">node #11</text>\n",
       "<text text-anchor=\"middle\" x=\"589.9995\" y=\"-34.8\" font-family=\"Times,serif\" font-size=\"14.00\" fill=\"#000000\">mae = 9.765</text>\n",
       "<text text-anchor=\"middle\" x=\"589.9995\" y=\"-20.8\" font-family=\"Times,serif\" font-size=\"14.00\" fill=\"#000000\">samples = 34</text>\n",
       "<text text-anchor=\"middle\" x=\"589.9995\" y=\"-6.8\" font-family=\"Times,serif\" font-size=\"14.00\" fill=\"#000000\">value = 33.0</text>\n",
       "</g>\n",
       "<!-- 9&#45;&gt;11 -->\n",
       "<g id=\"edge11\" class=\"edge\">\n",
       "<title>9&#45;&gt;11</title>\n",
       "<path fill=\"none\" stroke=\"#000000\" d=\"M534.2678,-99.7647C541.7039,-90.7231 549.6223,-81.095 557.0855,-72.0204\"/>\n",
       "<polygon fill=\"#000000\" stroke=\"#000000\" points=\"559.8546,-74.1636 563.5034,-64.2169 554.4481,-69.7171 559.8546,-74.1636\"/>\n",
       "</g>\n",
       "<!-- 13 -->\n",
       "<g id=\"node14\" class=\"node\">\n",
       "<title>13</title>\n",
       "<polygon fill=\"#ffffff\" stroke=\"#000000\" points=\"742.9985,-64 653.0005,-64 653.0005,0 742.9985,0 742.9985,-64\"/>\n",
       "<text text-anchor=\"middle\" x=\"697.9995\" y=\"-48.8\" font-family=\"Times,serif\" font-size=\"14.00\" fill=\"#000000\">node #13</text>\n",
       "<text text-anchor=\"middle\" x=\"697.9995\" y=\"-34.8\" font-family=\"Times,serif\" font-size=\"14.00\" fill=\"#000000\">mae = 11.05</text>\n",
       "<text text-anchor=\"middle\" x=\"697.9995\" y=\"-20.8\" font-family=\"Times,serif\" font-size=\"14.00\" fill=\"#000000\">samples = 43</text>\n",
       "<text text-anchor=\"middle\" x=\"697.9995\" y=\"-6.8\" font-family=\"Times,serif\" font-size=\"14.00\" fill=\"#000000\">value = 9.0</text>\n",
       "</g>\n",
       "<!-- 12&#45;&gt;13 -->\n",
       "<g id=\"edge13\" class=\"edge\">\n",
       "<title>12&#45;&gt;13</title>\n",
       "<path fill=\"none\" stroke=\"#000000\" d=\"M697.9995,-99.7647C697.9995,-91.4537 697.9995,-82.6472 697.9995,-74.2305\"/>\n",
       "<polygon fill=\"#000000\" stroke=\"#000000\" points=\"701.4996,-74.2168 697.9995,-64.2169 694.4996,-74.2169 701.4996,-74.2168\"/>\n",
       "</g>\n",
       "<!-- 14 -->\n",
       "<g id=\"node15\" class=\"node\">\n",
       "<title>14</title>\n",
       "<polygon fill=\"#f6d2b8\" stroke=\"#000000\" points=\"850.9985,-64 761.0005,-64 761.0005,0 850.9985,0 850.9985,-64\"/>\n",
       "<text text-anchor=\"middle\" x=\"805.9995\" y=\"-48.8\" font-family=\"Times,serif\" font-size=\"14.00\" fill=\"#000000\">node #14</text>\n",
       "<text text-anchor=\"middle\" x=\"805.9995\" y=\"-34.8\" font-family=\"Times,serif\" font-size=\"14.00\" fill=\"#000000\">mae = 2.25</text>\n",
       "<text text-anchor=\"middle\" x=\"805.9995\" y=\"-20.8\" font-family=\"Times,serif\" font-size=\"14.00\" fill=\"#000000\">samples = 16</text>\n",
       "<text text-anchor=\"middle\" x=\"805.9995\" y=\"-6.8\" font-family=\"Times,serif\" font-size=\"14.00\" fill=\"#000000\">value = 28.0</text>\n",
       "</g>\n",
       "<!-- 12&#45;&gt;14 -->\n",
       "<g id=\"edge14\" class=\"edge\">\n",
       "<title>12&#45;&gt;14</title>\n",
       "<path fill=\"none\" stroke=\"#000000\" d=\"M737.6015,-99.7647C746.912,-90.5404 756.8386,-80.7057 766.1595,-71.4711\"/>\n",
       "<polygon fill=\"#000000\" stroke=\"#000000\" points=\"768.841,-73.7414 773.4815,-64.2169 763.9143,-68.7686 768.841,-73.7414\"/>\n",
       "</g>\n",
       "</g>\n",
       "</svg>\n"
      ],
      "text/plain": [
       "<graphviz.files.Source at 0x11d392750>"
      ]
     },
     "execution_count": 34,
     "metadata": {},
     "output_type": "execute_result"
    }
   ],
   "source": [
    "dts.show_decision_tree_structure(rotate=False)"
   ]
  },
  {
   "cell_type": "code",
   "execution_count": 35,
   "metadata": {
    "ExecuteTime": {
     "end_time": "2019-07-16T11:05:39.025349Z",
     "start_time": "2019-07-16T11:05:38.982931Z"
    }
   },
   "outputs": [
    {
     "name": "stdout",
     "output_type": "stream",
     "text": [
      "Node count 15, leaf count 8, split count 7 \n"
     ]
    }
   ],
   "source": [
    "print(f\"Node count {dts.get_node_count()}, leaf count {dts.get_leaf_node_count()}, split count {dts.get_split_node_count()} \")"
   ]
  },
  {
   "cell_type": "code",
   "execution_count": 45,
   "metadata": {
    "ExecuteTime": {
     "end_time": "2019-07-16T11:05:45.789516Z",
     "start_time": "2019-07-16T11:05:40.299305Z"
    },
    "scrolled": false
   },
   "outputs": [
    {
     "data": {
      "image/png": "[encoded data removed]",
      "text/plain": [
       "<Figure size 720x360 with 1 Axes>"
      ]
     },
     "metadata": {
      "needs_background": "light"
     },
     "output_type": "display_data"
    }
   ],
   "source": [
    "dts.show_leaf_regression_criteria()"
   ]
  },
  {
   "cell_type": "code",
   "execution_count": 37,
   "metadata": {
    "ExecuteTime": {
     "end_time": "2019-07-16T11:05:45.894372Z",
     "start_time": "2019-07-16T11:05:45.791635Z"
    }
   },
   "outputs": [
    {
     "data": {
      "image/png": "[encoded data removed]",
      "text/plain": [
       "<Figure size 720x360 with 1 Axes>"
      ]
     },
     "metadata": {
      "needs_background": "light"
     },
     "output_type": "display_data"
    }
   ],
   "source": [
    "dts.show_leaf_samples()"
   ]
  },
  {
   "cell_type": "code",
   "execution_count": 40,
   "metadata": {
    "ExecuteTime": {
     "end_time": "2019-07-16T11:08:22.793418Z",
     "start_time": "2019-07-16T11:08:22.711821Z"
    }
   },
   "outputs": [
    {
     "data": {
      "text/html": [
       "<div>\n",
       "<style scoped>\n",
       "    .dataframe tbody tr th:only-of-type {\n",
       "        vertical-align: middle;\n",
       "    }\n",
       "\n",
       "    .dataframe tbody tr th {\n",
       "        vertical-align: top;\n",
       "    }\n",
       "\n",
       "    .dataframe thead th {\n",
       "        text-align: right;\n",
       "    }\n",
       "</style>\n",
       "<table border=\"1\" class=\"dataframe\">\n",
       "  <thead>\n",
       "    <tr style=\"text-align: right;\">\n",
       "      <th></th>\n",
       "      <th>Pclass</th>\n",
       "      <th>Fare</th>\n",
       "      <th>Sex_label</th>\n",
       "      <th>Cabin_label</th>\n",
       "      <th>Embarked_label</th>\n",
       "      <th>Survived</th>\n",
       "      <th>Age</th>\n",
       "    </tr>\n",
       "  </thead>\n",
       "  <tbody>\n",
       "    <tr>\n",
       "      <th>count</th>\n",
       "      <td>46.0</td>\n",
       "      <td>46.000000</td>\n",
       "      <td>46.000000</td>\n",
       "      <td>46.00000</td>\n",
       "      <td>46.000000</td>\n",
       "      <td>46.0</td>\n",
       "      <td>46.000000</td>\n",
       "    </tr>\n",
       "    <tr>\n",
       "      <th>mean</th>\n",
       "      <td>1.0</td>\n",
       "      <td>43.707335</td>\n",
       "      <td>0.978261</td>\n",
       "      <td>52.76087</td>\n",
       "      <td>1.478261</td>\n",
       "      <td>0.0</td>\n",
       "      <td>43.739130</td>\n",
       "    </tr>\n",
       "    <tr>\n",
       "      <th>std</th>\n",
       "      <td>0.0</td>\n",
       "      <td>26.174664</td>\n",
       "      <td>0.147442</td>\n",
       "      <td>49.37304</td>\n",
       "      <td>0.887922</td>\n",
       "      <td>0.0</td>\n",
       "      <td>13.278947</td>\n",
       "    </tr>\n",
       "    <tr>\n",
       "      <th>min</th>\n",
       "      <td>1.0</td>\n",
       "      <td>0.000000</td>\n",
       "      <td>0.000000</td>\n",
       "      <td>-1.00000</td>\n",
       "      <td>0.000000</td>\n",
       "      <td>0.0</td>\n",
       "      <td>21.000000</td>\n",
       "    </tr>\n",
       "    <tr>\n",
       "      <th>25%</th>\n",
       "      <td>1.0</td>\n",
       "      <td>26.550000</td>\n",
       "      <td>1.000000</td>\n",
       "      <td>0.25000</td>\n",
       "      <td>0.500000</td>\n",
       "      <td>0.0</td>\n",
       "      <td>29.250000</td>\n",
       "    </tr>\n",
       "    <tr>\n",
       "      <th>50%</th>\n",
       "      <td>1.0</td>\n",
       "      <td>35.250000</td>\n",
       "      <td>1.000000</td>\n",
       "      <td>45.50000</td>\n",
       "      <td>2.000000</td>\n",
       "      <td>0.0</td>\n",
       "      <td>45.000000</td>\n",
       "    </tr>\n",
       "    <tr>\n",
       "      <th>75%</th>\n",
       "      <td>1.0</td>\n",
       "      <td>59.856250</td>\n",
       "      <td>1.000000</td>\n",
       "      <td>98.00000</td>\n",
       "      <td>2.000000</td>\n",
       "      <td>0.0</td>\n",
       "      <td>54.000000</td>\n",
       "    </tr>\n",
       "    <tr>\n",
       "      <th>max</th>\n",
       "      <td>1.0</td>\n",
       "      <td>113.275000</td>\n",
       "      <td>1.000000</td>\n",
       "      <td>146.00000</td>\n",
       "      <td>2.000000</td>\n",
       "      <td>0.0</td>\n",
       "      <td>70.000000</td>\n",
       "    </tr>\n",
       "  </tbody>\n",
       "</table>\n",
       "</div>"
      ],
      "text/plain": [
       "       Pclass        Fare  Sex_label  Cabin_label  Embarked_label  Survived  \\\n",
       "count    46.0   46.000000  46.000000     46.00000       46.000000      46.0   \n",
       "mean      1.0   43.707335   0.978261     52.76087        1.478261       0.0   \n",
       "std       0.0   26.174664   0.147442     49.37304        0.887922       0.0   \n",
       "min       1.0    0.000000   0.000000     -1.00000        0.000000       0.0   \n",
       "25%       1.0   26.550000   1.000000      0.25000        0.500000       0.0   \n",
       "50%       1.0   35.250000   1.000000     45.50000        2.000000       0.0   \n",
       "75%       1.0   59.856250   1.000000     98.00000        2.000000       0.0   \n",
       "max       1.0  113.275000   1.000000    146.00000        2.000000       0.0   \n",
       "\n",
       "             Age  \n",
       "count  46.000000  \n",
       "mean   43.739130  \n",
       "std    13.278947  \n",
       "min    21.000000  \n",
       "25%    29.250000  \n",
       "50%    45.000000  \n",
       "75%    54.000000  \n",
       "max    70.000000  "
      ]
     },
     "execution_count": 40,
     "metadata": {},
     "output_type": "execute_result"
    }
   ],
   "source": [
    "dts.get_node_samples(3).describe()"
   ]
  },
  {
   "cell_type": "code",
   "execution_count": 41,
   "metadata": {
    "ExecuteTime": {
     "end_time": "2019-07-16T08:37:25.028668Z",
     "start_time": "2019-07-16T08:37:24.726147Z"
    }
   },
   "outputs": [
    {
     "data": {
      "image/png": "[encoded data removed]",
      "text/plain": [
       "<Figure size 720x360 with 1 Axes>"
      ]
     },
     "metadata": {
      "needs_background": "light"
     },
     "output_type": "display_data"
    }
   ],
   "source": [
    "dts.show_leaf_regression_criteria_distribution(bins=20)\n"
   ]
  },
  {
   "cell_type": "code",
   "execution_count": 44,
   "metadata": {
    "ExecuteTime": {
     "end_time": "2019-07-16T11:07:46.186550Z",
     "start_time": "2019-07-16T11:07:46.029581Z"
    },
    "scrolled": false
   },
   "outputs": [
    {
     "name": "stderr",
     "output_type": "stream",
     "text": [
      "INFO - Make a prediction for sample [3, 7.8958, 1, -1, 2, 0]\n",
      "INFO - decision path [ 0  8  9 10]\n"
     ]
    },
    {
     "data": {
      "image/svg+xml": [
       "<?xml version=\"1.0\" encoding=\"UTF-8\" standalone=\"no\"?>\n",
       "<!DOCTYPE svg PUBLIC \"-//W3C//DTD SVG 1.1//EN\"\n",
       " \"http://www.w3.org/Graphics/SVG/1.1/DTD/svg11.dtd\">\n",
       "<!-- Generated by graphviz version 2.40.1 (20161225.0304)\n",
       " -->\n",
       "<!-- Pages: 1 -->\n",
       "<svg width=\"387pt\" height=\"430pt\"\n",
       " viewBox=\"0.00 0.00 387.36 429.96\" xmlns=\"http://www.w3.org/2000/svg\" xmlns:xlink=\"http://www.w3.org/1999/xlink\">\n",
       "<g id=\"graph0\" class=\"graph\" transform=\"scale(1 1) rotate(0) translate(4 425.9554)\">\n",
       "<polygon fill=\"#ffffff\" stroke=\"transparent\" points=\"-4,4 -4,-425.9554 383.3596,-425.9554 383.3596,4 -4,4\"/>\n",
       "<!-- 0 -->\n",
       "<g id=\"node1\" class=\"node\">\n",
       "<title>0</title>\n",
       "<ellipse fill=\"none\" stroke=\"#0000ff\" cx=\"144.4412\" cy=\"-380.9432\" rx=\"57.8182\" ry=\"41.0244\"/>\n",
       "<text text-anchor=\"middle\" x=\"144.4412\" y=\"-397.9432\" font-family=\"Times,serif\" font-size=\"10.00\" fill=\"#000000\">Node 0 </text>\n",
       "<text text-anchor=\"middle\" x=\"144.4412\" y=\"-387.9432\" font-family=\"Times,serif\" font-size=\"10.00\" fill=\"#000000\">Pclass(3) &gt; 1.5</text>\n",
       "<text text-anchor=\"middle\" x=\"144.4412\" y=\"-377.9432\" font-family=\"Times,serif\" font-size=\"10.00\" fill=\"#000000\">samples 712 </text>\n",
       "<text text-anchor=\"middle\" x=\"144.4412\" y=\"-367.9432\" font-family=\"Times,serif\" font-size=\"10.00\" fill=\"#000000\">prediction 28.0, </text>\n",
       "<text text-anchor=\"middle\" x=\"144.4412\" y=\"-357.9432\" font-family=\"Times,serif\" font-size=\"10.00\" fill=\"#000000\">MAE 8.96</text>\n",
       "</g>\n",
       "<!-- 1 -->\n",
       "<g id=\"node2\" class=\"node\">\n",
       "<title>1</title>\n",
       "<ellipse fill=\"none\" stroke=\"#000000\" cx=\"65.4412\" cy=\"-262.9188\" rx=\"65.3825\" ry=\"41.0244\"/>\n",
       "<text text-anchor=\"middle\" x=\"65.4412\" y=\"-279.9188\" font-family=\"Times,serif\" font-size=\"10.00\" fill=\"#000000\">Node 1 </text>\n",
       "<text text-anchor=\"middle\" x=\"65.4412\" y=\"-269.9188\" font-family=\"Times,serif\" font-size=\"10.00\" fill=\"#000000\">Survived(0) &lt;= 0.5</text>\n",
       "<text text-anchor=\"middle\" x=\"65.4412\" y=\"-259.9188\" font-family=\"Times,serif\" font-size=\"10.00\" fill=\"#000000\">samples 165 </text>\n",
       "<text text-anchor=\"middle\" x=\"65.4412\" y=\"-249.9188\" font-family=\"Times,serif\" font-size=\"10.00\" fill=\"#000000\">prediction 35.0, </text>\n",
       "<text text-anchor=\"middle\" x=\"65.4412\" y=\"-239.9188\" font-family=\"Times,serif\" font-size=\"10.00\" fill=\"#000000\">MAE 11.56</text>\n",
       "</g>\n",
       "<!-- 0&#45;&gt;1 -->\n",
       "<g id=\"edge1\" class=\"edge\">\n",
       "<title>0&#45;&gt;1</title>\n",
       "<path fill=\"none\" stroke=\"#000000\" d=\"M119.4451,-343.5996C112.1687,-332.7287 104.1297,-320.7186 96.5268,-309.36\"/>\n",
       "<polygon fill=\"#000000\" stroke=\"#000000\" points=\"99.2888,-307.1941 90.8177,-300.8308 93.4716,-311.0879 99.2888,-307.1941\"/>\n",
       "</g>\n",
       "<!-- 8 -->\n",
       "<g id=\"node3\" class=\"node\">\n",
       "<title>8</title>\n",
       "<ellipse fill=\"none\" stroke=\"#0000ff\" cx=\"224.4412\" cy=\"-262.9188\" rx=\"75.4079\" ry=\"41.0244\"/>\n",
       "<text text-anchor=\"middle\" x=\"224.4412\" y=\"-279.9188\" font-family=\"Times,serif\" font-size=\"10.00\" fill=\"#000000\">Node 8 </text>\n",
       "<text text-anchor=\"middle\" x=\"224.4412\" y=\"-269.9188\" font-family=\"Times,serif\" font-size=\"10.00\" fill=\"#000000\">Fare(7.8958) &lt;= 27.82</text>\n",
       "<text text-anchor=\"middle\" x=\"224.4412\" y=\"-259.9188\" font-family=\"Times,serif\" font-size=\"10.00\" fill=\"#000000\">samples 547 </text>\n",
       "<text text-anchor=\"middle\" x=\"224.4412\" y=\"-249.9188\" font-family=\"Times,serif\" font-size=\"10.00\" fill=\"#000000\">prediction 28.0, </text>\n",
       "<text text-anchor=\"middle\" x=\"224.4412\" y=\"-239.9188\" font-family=\"Times,serif\" font-size=\"10.00\" fill=\"#000000\">MAE 7.96</text>\n",
       "</g>\n",
       "<!-- 0&#45;&gt;8 -->\n",
       "<g id=\"edge2\" class=\"edge\">\n",
       "<title>0&#45;&gt;8</title>\n",
       "<path fill=\"none\" stroke=\"#000000\" d=\"M169.5342,-343.9234C176.8373,-333.1492 184.9139,-321.2336 192.575,-309.9312\"/>\n",
       "<polygon fill=\"#000000\" stroke=\"#000000\" points=\"195.6191,-311.6783 198.3327,-301.4368 189.8247,-307.7507 195.6191,-311.6783\"/>\n",
       "</g>\n",
       "<!-- 9 -->\n",
       "<g id=\"node4\" class=\"node\">\n",
       "<title>9</title>\n",
       "<ellipse fill=\"none\" stroke=\"#0000ff\" cx=\"142.4412\" cy=\"-144.8944\" rx=\"75.4079\" ry=\"41.0244\"/>\n",
       "<text text-anchor=\"middle\" x=\"142.4412\" y=\"-161.8944\" font-family=\"Times,serif\" font-size=\"10.00\" fill=\"#000000\">Node 9 </text>\n",
       "<text text-anchor=\"middle\" x=\"142.4412\" y=\"-151.8944\" font-family=\"Times,serif\" font-size=\"10.00\" fill=\"#000000\">Fare(7.8958) &lt;= 25.73</text>\n",
       "<text text-anchor=\"middle\" x=\"142.4412\" y=\"-141.8944\" font-family=\"Times,serif\" font-size=\"10.00\" fill=\"#000000\">samples 488 </text>\n",
       "<text text-anchor=\"middle\" x=\"142.4412\" y=\"-131.8944\" font-family=\"Times,serif\" font-size=\"10.00\" fill=\"#000000\">prediction 28.0, </text>\n",
       "<text text-anchor=\"middle\" x=\"142.4412\" y=\"-121.8944\" font-family=\"Times,serif\" font-size=\"10.00\" fill=\"#000000\">MAE 7.3</text>\n",
       "</g>\n",
       "<!-- 8&#45;&gt;9 -->\n",
       "<g id=\"edge3\" class=\"edge\">\n",
       "<title>8&#45;&gt;9</title>\n",
       "<path fill=\"none\" stroke=\"#000000\" d=\"M197.5913,-224.2732C190.4413,-213.9821 182.6369,-202.749 175.2085,-192.0571\"/>\n",
       "<polygon fill=\"#000000\" stroke=\"#000000\" points=\"177.9316,-189.8423 169.3514,-183.6269 172.1829,-193.8364 177.9316,-189.8423\"/>\n",
       "</g>\n",
       "<!-- 12 -->\n",
       "<g id=\"node5\" class=\"node\">\n",
       "<title>12</title>\n",
       "<ellipse fill=\"none\" stroke=\"#000000\" cx=\"307.4412\" cy=\"-144.8944\" rx=\"71.8369\" ry=\"41.0244\"/>\n",
       "<text text-anchor=\"middle\" x=\"307.4412\" y=\"-161.8944\" font-family=\"Times,serif\" font-size=\"10.00\" fill=\"#000000\">Node 12 </text>\n",
       "<text text-anchor=\"middle\" x=\"307.4412\" y=\"-151.8944\" font-family=\"Times,serif\" font-size=\"10.00\" fill=\"#000000\">Fare(7.8958) &lt;= 51.7</text>\n",
       "<text text-anchor=\"middle\" x=\"307.4412\" y=\"-141.8944\" font-family=\"Times,serif\" font-size=\"10.00\" fill=\"#000000\">samples 59 </text>\n",
       "<text text-anchor=\"middle\" x=\"307.4412\" y=\"-131.8944\" font-family=\"Times,serif\" font-size=\"10.00\" fill=\"#000000\">prediction 19.0, </text>\n",
       "<text text-anchor=\"middle\" x=\"307.4412\" y=\"-121.8944\" font-family=\"Times,serif\" font-size=\"10.00\" fill=\"#000000\">MAE 11.88</text>\n",
       "</g>\n",
       "<!-- 8&#45;&gt;12 -->\n",
       "<g id=\"edge4\" class=\"edge\">\n",
       "<title>8&#45;&gt;12</title>\n",
       "<path fill=\"none\" stroke=\"#000000\" d=\"M251.3889,-224.5997C258.8575,-213.9796 267.046,-202.3356 274.8015,-191.3074\"/>\n",
       "<polygon fill=\"#000000\" stroke=\"#000000\" points=\"277.7392,-193.2145 280.6287,-183.0213 272.0133,-189.1878 277.7392,-193.2145\"/>\n",
       "</g>\n",
       "<!-- 10 -->\n",
       "<g id=\"node6\" class=\"node\">\n",
       "<title>10</title>\n",
       "<ellipse fill=\"none\" stroke=\"#0000ff\" cx=\"76.4412\" cy=\"-33.9411\" rx=\"57.8182\" ry=\"33.8824\"/>\n",
       "<text text-anchor=\"middle\" x=\"76.4412\" y=\"-45.9411\" font-family=\"Times,serif\" font-size=\"10.00\" fill=\"#000000\">Node 10 </text>\n",
       "<text text-anchor=\"middle\" x=\"76.4412\" y=\"-35.9411\" font-family=\"Times,serif\" font-size=\"10.00\" fill=\"#000000\">samples 454 </text>\n",
       "<text text-anchor=\"middle\" x=\"76.4412\" y=\"-25.9411\" font-family=\"Times,serif\" font-size=\"10.00\" fill=\"#000000\">prediction 28.0, </text>\n",
       "<text text-anchor=\"middle\" x=\"76.4412\" y=\"-15.9411\" font-family=\"Times,serif\" font-size=\"10.00\" fill=\"#000000\">MAE 7.05</text>\n",
       "</g>\n",
       "<!-- 9&#45;&gt;10 -->\n",
       "<g id=\"edge5\" class=\"edge\">\n",
       "<title>9&#45;&gt;10</title>\n",
       "<path fill=\"none\" stroke=\"#000000\" d=\"M119.1721,-105.7765C113.2015,-95.7393 106.7643,-84.9176 100.7431,-74.7953\"/>\n",
       "<polygon fill=\"#000000\" stroke=\"#000000\" points=\"103.7014,-72.9223 95.581,-66.1172 97.6853,-76.501 103.7014,-72.9223\"/>\n",
       "</g>\n",
       "<!-- 11 -->\n",
       "<g id=\"node7\" class=\"node\">\n",
       "<title>11</title>\n",
       "<ellipse fill=\"none\" stroke=\"#000000\" cx=\"209.4412\" cy=\"-33.9411\" rx=\"57.8182\" ry=\"33.8824\"/>\n",
       "<text text-anchor=\"middle\" x=\"209.4412\" y=\"-45.9411\" font-family=\"Times,serif\" font-size=\"10.00\" fill=\"#000000\">Node 11 </text>\n",
       "<text text-anchor=\"middle\" x=\"209.4412\" y=\"-35.9411\" font-family=\"Times,serif\" font-size=\"10.00\" fill=\"#000000\">samples 34 </text>\n",
       "<text text-anchor=\"middle\" x=\"209.4412\" y=\"-25.9411\" font-family=\"Times,serif\" font-size=\"10.00\" fill=\"#000000\">prediction 33.0, </text>\n",
       "<text text-anchor=\"middle\" x=\"209.4412\" y=\"-15.9411\" font-family=\"Times,serif\" font-size=\"10.00\" fill=\"#000000\">MAE 9.76</text>\n",
       "</g>\n",
       "<!-- 9&#45;&gt;11 -->\n",
       "<g id=\"edge6\" class=\"edge\">\n",
       "<title>9&#45;&gt;11</title>\n",
       "<path fill=\"none\" stroke=\"#000000\" d=\"M166.0629,-105.7765C172.1239,-95.7393 178.6587,-84.9176 184.7711,-74.7953\"/>\n",
       "<polygon fill=\"#000000\" stroke=\"#000000\" points=\"187.8383,-76.4868 190.0114,-66.1172 181.846,-72.8683 187.8383,-76.4868\"/>\n",
       "</g>\n",
       "</g>\n",
       "</svg>\n"
      ],
      "text/plain": [
       "<graphviz.files.Source at 0x11cfcc090>"
      ]
     },
     "execution_count": 44,
     "metadata": {},
     "output_type": "execute_result"
    }
   ],
   "source": [
    "dts.show_decision_tree_prediction_path(list(train.iloc[0][features]))"
   ]
  },
  {
   "cell_type": "code",
   "execution_count": 68,
   "metadata": {
    "ExecuteTime": {
     "end_time": "2019-07-16T10:36:28.793551Z",
     "start_time": "2019-07-16T10:36:28.701430Z"
    }
   },
   "outputs": [
    {
     "data": {
      "text/html": [
       "<div>\n",
       "<style scoped>\n",
       "    .dataframe tbody tr th:only-of-type {\n",
       "        vertical-align: middle;\n",
       "    }\n",
       "\n",
       "    .dataframe tbody tr th {\n",
       "        vertical-align: top;\n",
       "    }\n",
       "\n",
       "    .dataframe thead th {\n",
       "        text-align: right;\n",
       "    }\n",
       "</style>\n",
       "<table border=\"1\" class=\"dataframe\">\n",
       "  <thead>\n",
       "    <tr style=\"text-align: right;\">\n",
       "      <th></th>\n",
       "      <th>Pclass</th>\n",
       "      <th>Fare</th>\n",
       "      <th>Sex_label</th>\n",
       "      <th>Cabin_label</th>\n",
       "      <th>Embarked_label</th>\n",
       "      <th>Survived</th>\n",
       "      <th>Age</th>\n",
       "    </tr>\n",
       "  </thead>\n",
       "  <tbody>\n",
       "    <tr>\n",
       "      <th>count</th>\n",
       "      <td>34.0</td>\n",
       "      <td>34.000000</td>\n",
       "      <td>34.000000</td>\n",
       "      <td>34.000000</td>\n",
       "      <td>34.000000</td>\n",
       "      <td>34.000000</td>\n",
       "      <td>34.000000</td>\n",
       "    </tr>\n",
       "    <tr>\n",
       "      <th>mean</th>\n",
       "      <td>2.0</td>\n",
       "      <td>26.256494</td>\n",
       "      <td>0.500000</td>\n",
       "      <td>3.176471</td>\n",
       "      <td>1.941176</td>\n",
       "      <td>0.500000</td>\n",
       "      <td>32.235294</td>\n",
       "    </tr>\n",
       "    <tr>\n",
       "      <th>std</th>\n",
       "      <td>0.0</td>\n",
       "      <td>0.579951</td>\n",
       "      <td>0.507519</td>\n",
       "      <td>24.352799</td>\n",
       "      <td>0.342997</td>\n",
       "      <td>0.507519</td>\n",
       "      <td>13.033892</td>\n",
       "    </tr>\n",
       "    <tr>\n",
       "      <th>min</th>\n",
       "      <td>2.0</td>\n",
       "      <td>26.000000</td>\n",
       "      <td>0.000000</td>\n",
       "      <td>-1.000000</td>\n",
       "      <td>0.000000</td>\n",
       "      <td>0.000000</td>\n",
       "      <td>2.000000</td>\n",
       "    </tr>\n",
       "    <tr>\n",
       "      <th>25%</th>\n",
       "      <td>2.0</td>\n",
       "      <td>26.000000</td>\n",
       "      <td>0.000000</td>\n",
       "      <td>-1.000000</td>\n",
       "      <td>2.000000</td>\n",
       "      <td>0.000000</td>\n",
       "      <td>26.250000</td>\n",
       "    </tr>\n",
       "    <tr>\n",
       "      <th>50%</th>\n",
       "      <td>2.0</td>\n",
       "      <td>26.000000</td>\n",
       "      <td>0.500000</td>\n",
       "      <td>-1.000000</td>\n",
       "      <td>2.000000</td>\n",
       "      <td>0.500000</td>\n",
       "      <td>33.000000</td>\n",
       "    </tr>\n",
       "    <tr>\n",
       "      <th>75%</th>\n",
       "      <td>2.0</td>\n",
       "      <td>26.000000</td>\n",
       "      <td>1.000000</td>\n",
       "      <td>-1.000000</td>\n",
       "      <td>2.000000</td>\n",
       "      <td>1.000000</td>\n",
       "      <td>42.000000</td>\n",
       "    </tr>\n",
       "    <tr>\n",
       "      <th>max</th>\n",
       "      <td>2.0</td>\n",
       "      <td>27.750000</td>\n",
       "      <td>1.000000</td>\n",
       "      <td>141.000000</td>\n",
       "      <td>2.000000</td>\n",
       "      <td>1.000000</td>\n",
       "      <td>54.000000</td>\n",
       "    </tr>\n",
       "  </tbody>\n",
       "</table>\n",
       "</div>"
      ],
      "text/plain": [
       "       Pclass       Fare  Sex_label  Cabin_label  Embarked_label   Survived  \\\n",
       "count    34.0  34.000000  34.000000    34.000000       34.000000  34.000000   \n",
       "mean      2.0  26.256494   0.500000     3.176471        1.941176   0.500000   \n",
       "std       0.0   0.579951   0.507519    24.352799        0.342997   0.507519   \n",
       "min       2.0  26.000000   0.000000    -1.000000        0.000000   0.000000   \n",
       "25%       2.0  26.000000   0.000000    -1.000000        2.000000   0.000000   \n",
       "50%       2.0  26.000000   0.500000    -1.000000        2.000000   0.500000   \n",
       "75%       2.0  26.000000   1.000000    -1.000000        2.000000   1.000000   \n",
       "max       2.0  27.750000   1.000000   141.000000        2.000000   1.000000   \n",
       "\n",
       "             Age  \n",
       "count  34.000000  \n",
       "mean   32.235294  \n",
       "std    13.033892  \n",
       "min     2.000000  \n",
       "25%    26.250000  \n",
       "50%    33.000000  \n",
       "75%    42.000000  \n",
       "max    54.000000  "
      ]
     },
     "execution_count": 68,
     "metadata": {},
     "output_type": "execute_result"
    }
   ],
   "source": [
    "dts.get_node_samples(node_id=11).describe()"
   ]
  },
  {
   "cell_type": "code",
   "execution_count": null,
   "metadata": {},
   "outputs": [],
   "source": []
  },
  {
   "cell_type": "code",
   "execution_count": null,
   "metadata": {},
   "outputs": [],
   "source": []
  },
  {
   "cell_type": "code",
   "execution_count": null,
   "metadata": {},
   "outputs": [],
   "source": []
  },
  {
   "cell_type": "code",
   "execution_count": null,
   "metadata": {},
   "outputs": [],
   "source": []
  },
  {
   "cell_type": "code",
   "execution_count": null,
   "metadata": {},
   "outputs": [],
   "source": []
  },
  {
   "cell_type": "code",
   "execution_count": null,
   "metadata": {},
   "outputs": [],
   "source": []
  }
 ],
 "metadata": {
  "kernelspec": {
   "display_name": "Python 3",
   "language": "python",
   "name": "python3"
  },
  "language_info": {
   "codemirror_mode": {
    "name": "ipython",
    "version": 3
   },
   "file_extension": ".py",
   "mimetype": "text/x-python",
   "name": "python",
   "nbconvert_exporter": "python",
   "pygments_lexer": "ipython3",
   "version": "3.7.4"
  },
  "toc": {
   "base_numbering": 1,
   "nav_menu": {},
   "number_sections": true,
   "sideBar": true,
   "skip_h1_title": false,
   "title_cell": "Table of Contents",
   "title_sidebar": "Contents",
   "toc_cell": false,
   "toc_position": {},
   "toc_section_display": true,
   "toc_window_display": true
  }
 },
 "nbformat": 4,
 "nbformat_minor": 2
}
